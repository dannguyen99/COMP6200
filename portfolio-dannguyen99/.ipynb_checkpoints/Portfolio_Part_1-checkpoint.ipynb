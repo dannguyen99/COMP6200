{
 "cells": [
  {
   "cell_type": "markdown",
   "id": "b6f4c5d9",
   "metadata": {},
   "source": [
    "### Analysis of Epinions Data\n",
    "\n",
    "We are provided with the Epinions data collected through a general consumer review web site Epinions.com. Each user on the site can rate and post a review for products (items) and other users would rate the review to show the helpfulness of the review.\n",
    "In this data, for each user, we have user ID, gender, ratings (1-5) and reviews towards the products they bought. For each rating, we have the product name and its category, the rating score, the time point when the rating is created, and the helpfulness (1-6) of this rating.\n",
    "\n",
    "Originally, there are several separate files to record the user-item rating info, user demographic info and item descriptive info, we have conducted preliminary processing to map and merge the data into one csv file named 'Epinions_test_data.csv'. The header of the csv file is shown below. \n",
    "\n",
    "\n",
    "| userId | gender | rating | review| item | category | helpfulness | timestamp |\n",
    "    | ---- | ---- | ---- | ---- | ---- | ---- | ---- | ---- | \n",
    "    \n",
    "#### Description of Fields\n",
    "\n",
    "* __userId__ - the user's id\n",
    "* __gender__ - the user's gender\n",
    "* __item__ - the product's name\n",
    "* __category__ - the category of the item\n",
    "* __rating__ - the user's rating towards the item\n",
    "* __review__ - the user's review towards the item\n",
    "* __helpfulness__ - the helpfulness of this rating\n",
    "* __timestamp__ - the timestamp when the rating is created\n",
    "\n",
    "Note that, a same user (i.e., a same userId) corresponds to a same gender; a same item corresponds to a same category; a same user (i.e., a same userId) may rate multiple items; a same item may receive ratings and reviews from multiple users and each review is associted with a single helpfulness value calculated based on the feedbacks from other users.\n",
    "\n",
    "There are four questions to explore with the data as shown below."
   ]
  },
  {
   "cell_type": "markdown",
   "id": "e447718c",
   "metadata": {},
   "source": [
    " #### Q1. Remove missing data\n",
    " \n",
    "Please remove the following records in the csv file: \n",
    " \n",
    " * gender/rating/helpfulness is missing\n",
    " * review is 'none'\n",
    "\n",
    "__Display the DataFrame, counting number of Null values in each column, and print the length of the data__ before and after removing the missing data.  "
   ]
  },
  {
   "cell_type": "code",
   "execution_count": 2,
   "id": "c80370f0",
   "metadata": {},
   "outputs": [],
   "source": [
    "# your code and solutions\n",
    "\n",
    "import pandas as pd\n",
    "import matplotlib.pyplot as plt\n",
    "import numpy as np\n",
    "import seaborn as sns\n",
    "%matplotlib inline\n",
    "\n",
    "sns.set_theme()"
   ]
  },
  {
   "cell_type": "markdown",
   "id": "a19d76b1",
   "metadata": {},
   "source": [
    "##### Examine raw data"
   ]
  },
  {
   "cell_type": "code",
   "execution_count": 3,
   "id": "964900b7",
   "metadata": {},
   "outputs": [
    {
     "data": {
      "text/html": [
       "<div>\n",
       "<style scoped>\n",
       "    .dataframe tbody tr th:only-of-type {\n",
       "        vertical-align: middle;\n",
       "    }\n",
       "\n",
       "    .dataframe tbody tr th {\n",
       "        vertical-align: top;\n",
       "    }\n",
       "\n",
       "    .dataframe thead th {\n",
       "        text-align: right;\n",
       "    }\n",
       "</style>\n",
       "<table border=\"1\" class=\"dataframe\">\n",
       "  <thead>\n",
       "    <tr style=\"text-align: right;\">\n",
       "      <th></th>\n",
       "      <th>userId</th>\n",
       "      <th>rating</th>\n",
       "      <th>helpfulness</th>\n",
       "      <th>timestamp</th>\n",
       "    </tr>\n",
       "  </thead>\n",
       "  <tbody>\n",
       "    <tr>\n",
       "      <th>count</th>\n",
       "      <td>10000.000000</td>\n",
       "      <td>9969.000000</td>\n",
       "      <td>9974.000000</td>\n",
       "      <td>10000.000000</td>\n",
       "    </tr>\n",
       "    <tr>\n",
       "      <th>mean</th>\n",
       "      <td>7716.637600</td>\n",
       "      <td>3.701876</td>\n",
       "      <td>3.736615</td>\n",
       "      <td>58437.917000</td>\n",
       "    </tr>\n",
       "    <tr>\n",
       "      <th>std</th>\n",
       "      <td>4646.341186</td>\n",
       "      <td>1.386560</td>\n",
       "      <td>1.527681</td>\n",
       "      <td>37582.469725</td>\n",
       "    </tr>\n",
       "    <tr>\n",
       "      <th>min</th>\n",
       "      <td>3.000000</td>\n",
       "      <td>1.000000</td>\n",
       "      <td>1.000000</td>\n",
       "      <td>10100.000000</td>\n",
       "    </tr>\n",
       "    <tr>\n",
       "      <th>25%</th>\n",
       "      <td>3569.000000</td>\n",
       "      <td>3.000000</td>\n",
       "      <td>3.000000</td>\n",
       "      <td>21700.000000</td>\n",
       "    </tr>\n",
       "    <tr>\n",
       "      <th>50%</th>\n",
       "      <td>7762.000000</td>\n",
       "      <td>4.000000</td>\n",
       "      <td>4.000000</td>\n",
       "      <td>52500.000000</td>\n",
       "    </tr>\n",
       "    <tr>\n",
       "      <th>75%</th>\n",
       "      <td>11726.000000</td>\n",
       "      <td>5.000000</td>\n",
       "      <td>5.000000</td>\n",
       "      <td>90999.000000</td>\n",
       "    </tr>\n",
       "    <tr>\n",
       "      <th>max</th>\n",
       "      <td>15730.000000</td>\n",
       "      <td>5.000000</td>\n",
       "      <td>6.000000</td>\n",
       "      <td>123199.000000</td>\n",
       "    </tr>\n",
       "  </tbody>\n",
       "</table>\n",
       "</div>"
      ],
      "text/plain": [
       "             userId       rating  helpfulness      timestamp\n",
       "count  10000.000000  9969.000000  9974.000000   10000.000000\n",
       "mean    7716.637600     3.701876     3.736615   58437.917000\n",
       "std     4646.341186     1.386560     1.527681   37582.469725\n",
       "min        3.000000     1.000000     1.000000   10100.000000\n",
       "25%     3569.000000     3.000000     3.000000   21700.000000\n",
       "50%     7762.000000     4.000000     4.000000   52500.000000\n",
       "75%    11726.000000     5.000000     5.000000   90999.000000\n",
       "max    15730.000000     5.000000     6.000000  123199.000000"
      ]
     },
     "execution_count": 3,
     "metadata": {},
     "output_type": "execute_result"
    }
   ],
   "source": [
    "epinions_raw = pd.read_csv('Epinions_test_data.csv')\n",
    "\n",
    "## descriptive statistics\n",
    "epinions_raw.describe()"
   ]
  },
  {
   "cell_type": "markdown",
   "id": "155023d1",
   "metadata": {},
   "source": [
    "##### Count rows that need to be removed"
   ]
  },
  {
   "cell_type": "code",
   "execution_count": 4,
   "id": "a749d7c0",
   "metadata": {},
   "outputs": [
    {
     "data": {
      "text/html": [
       "<div>\n",
       "<style scoped>\n",
       "    .dataframe tbody tr th:only-of-type {\n",
       "        vertical-align: middle;\n",
       "    }\n",
       "\n",
       "    .dataframe tbody tr th {\n",
       "        vertical-align: top;\n",
       "    }\n",
       "\n",
       "    .dataframe thead th {\n",
       "        text-align: right;\n",
       "    }\n",
       "</style>\n",
       "<table border=\"1\" class=\"dataframe\">\n",
       "  <thead>\n",
       "    <tr style=\"text-align: right;\">\n",
       "      <th></th>\n",
       "      <th>userId</th>\n",
       "      <th>gender</th>\n",
       "      <th>item</th>\n",
       "      <th>rating</th>\n",
       "      <th>review</th>\n",
       "      <th>helpfulness</th>\n",
       "      <th>timestamp</th>\n",
       "      <th>category</th>\n",
       "    </tr>\n",
       "  </thead>\n",
       "  <tbody>\n",
       "    <tr>\n",
       "      <th>39</th>\n",
       "      <td>4668</td>\n",
       "      <td>NaN</td>\n",
       "      <td>Amazon.com</td>\n",
       "      <td>2.0</td>\n",
       "      <td>terrible customer service. Would not recommend...</td>\n",
       "      <td>1.0</td>\n",
       "      <td>10903</td>\n",
       "      <td>Online Stores &amp; Services</td>\n",
       "    </tr>\n",
       "    <tr>\n",
       "      <th>96</th>\n",
       "      <td>4842</td>\n",
       "      <td>NaN</td>\n",
       "      <td>Bank of America</td>\n",
       "      <td>1.0</td>\n",
       "      <td>a VERY unreliable bank!</td>\n",
       "      <td>1.0</td>\n",
       "      <td>21500</td>\n",
       "      <td>Personal Finance</td>\n",
       "    </tr>\n",
       "    <tr>\n",
       "      <th>111</th>\n",
       "      <td>9395</td>\n",
       "      <td>NaN</td>\n",
       "      <td>Playtex Diaper Genie System</td>\n",
       "      <td>1.0</td>\n",
       "      <td>diaper genie? DIAPER DUD!</td>\n",
       "      <td>2.0</td>\n",
       "      <td>20300</td>\n",
       "      <td>Kids &amp; Family</td>\n",
       "    </tr>\n",
       "    <tr>\n",
       "      <th>262</th>\n",
       "      <td>12103</td>\n",
       "      <td>F</td>\n",
       "      <td>PayPal</td>\n",
       "      <td>4.0</td>\n",
       "      <td>Paypal</td>\n",
       "      <td>NaN</td>\n",
       "      <td>122601</td>\n",
       "      <td>Personal Finance</td>\n",
       "    </tr>\n",
       "    <tr>\n",
       "      <th>588</th>\n",
       "      <td>1861</td>\n",
       "      <td>M</td>\n",
       "      <td>AOL (America Online)</td>\n",
       "      <td>NaN</td>\n",
       "      <td>BEWARE!</td>\n",
       "      <td>1.0</td>\n",
       "      <td>21500</td>\n",
       "      <td>Online Stores &amp; Services</td>\n",
       "    </tr>\n",
       "  </tbody>\n",
       "</table>\n",
       "</div>"
      ],
      "text/plain": [
       "     userId gender                         item  rating  \\\n",
       "39     4668    NaN                   Amazon.com     2.0   \n",
       "96     4842    NaN              Bank of America     1.0   \n",
       "111    9395    NaN  Playtex Diaper Genie System     1.0   \n",
       "262   12103      F                       PayPal     4.0   \n",
       "588    1861      M         AOL (America Online)     NaN   \n",
       "\n",
       "                                                review  helpfulness  \\\n",
       "39   terrible customer service. Would not recommend...          1.0   \n",
       "96                             a VERY unreliable bank!          1.0   \n",
       "111                          diaper genie? DIAPER DUD!          2.0   \n",
       "262                                            Paypal           NaN   \n",
       "588                                            BEWARE!          1.0   \n",
       "\n",
       "     timestamp                  category  \n",
       "39       10903  Online Stores & Services  \n",
       "96       21500          Personal Finance  \n",
       "111      20300             Kids & Family  \n",
       "262     122601          Personal Finance  \n",
       "588      21500  Online Stores & Services  "
      ]
     },
     "execution_count": 4,
     "metadata": {},
     "output_type": "execute_result"
    }
   ],
   "source": [
    "## gender/rating/helpfulness is missing\n",
    "missing_rows = epinions_raw[(epinions_raw.gender.isna() == True) | (epinions_raw.rating.isna()) | (epinions_raw.helpfulness.isna() == True)]\n",
    "missing_rows.head()"
   ]
  },
  {
   "cell_type": "code",
   "execution_count": 5,
   "id": "243e38af",
   "metadata": {},
   "outputs": [
    {
     "data": {
      "text/html": [
       "<div>\n",
       "<style scoped>\n",
       "    .dataframe tbody tr th:only-of-type {\n",
       "        vertical-align: middle;\n",
       "    }\n",
       "\n",
       "    .dataframe tbody tr th {\n",
       "        vertical-align: top;\n",
       "    }\n",
       "\n",
       "    .dataframe thead th {\n",
       "        text-align: right;\n",
       "    }\n",
       "</style>\n",
       "<table border=\"1\" class=\"dataframe\">\n",
       "  <thead>\n",
       "    <tr style=\"text-align: right;\">\n",
       "      <th></th>\n",
       "      <th>userId</th>\n",
       "      <th>gender</th>\n",
       "      <th>item</th>\n",
       "      <th>rating</th>\n",
       "      <th>review</th>\n",
       "      <th>helpfulness</th>\n",
       "      <th>timestamp</th>\n",
       "      <th>category</th>\n",
       "    </tr>\n",
       "  </thead>\n",
       "  <tbody>\n",
       "    <tr>\n",
       "      <th>321</th>\n",
       "      <td>667</td>\n",
       "      <td>M</td>\n",
       "      <td>eBay</td>\n",
       "      <td>5.0</td>\n",
       "      <td>none</td>\n",
       "      <td>4.0</td>\n",
       "      <td>91501</td>\n",
       "      <td>Online Stores &amp; Services</td>\n",
       "    </tr>\n",
       "    <tr>\n",
       "      <th>438</th>\n",
       "      <td>4572</td>\n",
       "      <td>F</td>\n",
       "      <td>Green Mile</td>\n",
       "      <td>5.0</td>\n",
       "      <td>none</td>\n",
       "      <td>4.0</td>\n",
       "      <td>20400</td>\n",
       "      <td>Movies</td>\n",
       "    </tr>\n",
       "    <tr>\n",
       "      <th>979</th>\n",
       "      <td>9282</td>\n",
       "      <td>F</td>\n",
       "      <td>United Airlines</td>\n",
       "      <td>4.0</td>\n",
       "      <td>none</td>\n",
       "      <td>3.0</td>\n",
       "      <td>11700</td>\n",
       "      <td>Hotels &amp; Travel</td>\n",
       "    </tr>\n",
       "    <tr>\n",
       "      <th>1510</th>\n",
       "      <td>10166</td>\n",
       "      <td>M</td>\n",
       "      <td>MyPoints.com</td>\n",
       "      <td>5.0</td>\n",
       "      <td>none</td>\n",
       "      <td>6.0</td>\n",
       "      <td>42700</td>\n",
       "      <td>Online Stores &amp; Services</td>\n",
       "    </tr>\n",
       "    <tr>\n",
       "      <th>1669</th>\n",
       "      <td>12028</td>\n",
       "      <td>M</td>\n",
       "      <td>Olive Garden</td>\n",
       "      <td>4.0</td>\n",
       "      <td>none</td>\n",
       "      <td>3.0</td>\n",
       "      <td>31201</td>\n",
       "      <td>Restaurants &amp; Gourmet</td>\n",
       "    </tr>\n",
       "  </tbody>\n",
       "</table>\n",
       "</div>"
      ],
      "text/plain": [
       "      userId gender             item  rating review  helpfulness  timestamp  \\\n",
       "321      667      M             eBay     5.0   none          4.0      91501   \n",
       "438     4572      F       Green Mile     5.0   none          4.0      20400   \n",
       "979     9282      F  United Airlines     4.0   none          3.0      11700   \n",
       "1510   10166      M     MyPoints.com     5.0   none          6.0      42700   \n",
       "1669   12028      M     Olive Garden     4.0   none          3.0      31201   \n",
       "\n",
       "                      category  \n",
       "321   Online Stores & Services  \n",
       "438                     Movies  \n",
       "979            Hotels & Travel  \n",
       "1510  Online Stores & Services  \n",
       "1669     Restaurants & Gourmet  "
      ]
     },
     "execution_count": 5,
     "metadata": {},
     "output_type": "execute_result"
    }
   ],
   "source": [
    "## review is none\n",
    "rev_none_rows = epinions_raw[epinions_raw.review == 'none']\n",
    "rev_none_rows.head()"
   ]
  },
  {
   "cell_type": "code",
   "execution_count": 6,
   "id": "bbf649f0",
   "metadata": {},
   "outputs": [
    {
     "name": "stdout",
     "output_type": "stream",
     "text": [
      "Original data has 10000 rows\n",
      "There are 84 rows where gender/rating/helpfulness is missing\n",
      "There are 27 rows where review is none\n",
      "In combine, there are 110 rows needed to be removed\n",
      "Data after removal has 9890 rows\n"
     ]
    },
    {
     "data": {
      "text/html": [
       "<div>\n",
       "<style scoped>\n",
       "    .dataframe tbody tr th:only-of-type {\n",
       "        vertical-align: middle;\n",
       "    }\n",
       "\n",
       "    .dataframe tbody tr th {\n",
       "        vertical-align: top;\n",
       "    }\n",
       "\n",
       "    .dataframe thead th {\n",
       "        text-align: right;\n",
       "    }\n",
       "</style>\n",
       "<table border=\"1\" class=\"dataframe\">\n",
       "  <thead>\n",
       "    <tr style=\"text-align: right;\">\n",
       "      <th></th>\n",
       "      <th>userId</th>\n",
       "      <th>rating</th>\n",
       "      <th>helpfulness</th>\n",
       "      <th>timestamp</th>\n",
       "    </tr>\n",
       "  </thead>\n",
       "  <tbody>\n",
       "    <tr>\n",
       "      <th>count</th>\n",
       "      <td>9890.000000</td>\n",
       "      <td>9890.000000</td>\n",
       "      <td>9890.000000</td>\n",
       "      <td>9890.000000</td>\n",
       "    </tr>\n",
       "    <tr>\n",
       "      <th>mean</th>\n",
       "      <td>7717.263296</td>\n",
       "      <td>3.701517</td>\n",
       "      <td>3.736603</td>\n",
       "      <td>58447.585238</td>\n",
       "    </tr>\n",
       "    <tr>\n",
       "      <th>std</th>\n",
       "      <td>4646.622934</td>\n",
       "      <td>1.387026</td>\n",
       "      <td>1.528204</td>\n",
       "      <td>37553.717731</td>\n",
       "    </tr>\n",
       "    <tr>\n",
       "      <th>min</th>\n",
       "      <td>3.000000</td>\n",
       "      <td>1.000000</td>\n",
       "      <td>1.000000</td>\n",
       "      <td>10100.000000</td>\n",
       "    </tr>\n",
       "    <tr>\n",
       "      <th>25%</th>\n",
       "      <td>3569.000000</td>\n",
       "      <td>3.000000</td>\n",
       "      <td>3.000000</td>\n",
       "      <td>21700.000000</td>\n",
       "    </tr>\n",
       "    <tr>\n",
       "      <th>50%</th>\n",
       "      <td>7780.000000</td>\n",
       "      <td>4.000000</td>\n",
       "      <td>4.000000</td>\n",
       "      <td>52500.000000</td>\n",
       "    </tr>\n",
       "    <tr>\n",
       "      <th>75%</th>\n",
       "      <td>11726.750000</td>\n",
       "      <td>5.000000</td>\n",
       "      <td>5.000000</td>\n",
       "      <td>90900.000000</td>\n",
       "    </tr>\n",
       "    <tr>\n",
       "      <th>max</th>\n",
       "      <td>15730.000000</td>\n",
       "      <td>5.000000</td>\n",
       "      <td>6.000000</td>\n",
       "      <td>123199.000000</td>\n",
       "    </tr>\n",
       "  </tbody>\n",
       "</table>\n",
       "</div>"
      ],
      "text/plain": [
       "             userId       rating  helpfulness      timestamp\n",
       "count   9890.000000  9890.000000  9890.000000    9890.000000\n",
       "mean    7717.263296     3.701517     3.736603   58447.585238\n",
       "std     4646.622934     1.387026     1.528204   37553.717731\n",
       "min        3.000000     1.000000     1.000000   10100.000000\n",
       "25%     3569.000000     3.000000     3.000000   21700.000000\n",
       "50%     7780.000000     4.000000     4.000000   52500.000000\n",
       "75%    11726.750000     5.000000     5.000000   90900.000000\n",
       "max    15730.000000     5.000000     6.000000  123199.000000"
      ]
     },
     "execution_count": 6,
     "metadata": {},
     "output_type": "execute_result"
    }
   ],
   "source": [
    "print('Original data has', len(epinions_raw), 'rows')\n",
    "print('There are', len(missing_rows),\n",
    "      'rows where gender/rating/helpfulness is missing')\n",
    "print('There are', len(rev_none_rows), 'rows where review is none')\n",
    "\n",
    "# combine two filters and remove\n",
    "remove_index = missing_rows.index.union(rev_none_rows.index)\n",
    "print('In combine, there are', len(remove_index), 'rows needed to be removed')\n",
    "epinions_clean = epinions_raw.drop(index=remove_index)\n",
    "print('Data after removal has', len(epinions_clean), 'rows')\n",
    "epinions_clean.describe()\n"
   ]
  },
  {
   "cell_type": "markdown",
   "id": "4ba9875d",
   "metadata": {},
   "source": [
    "#### Q2. Descriptive statistics\n",
    "\n",
    "With the cleaned data in Q1, please provide the data summarization as below:\n",
    "\n",
    "* Q2.1 total number of unique users, unique reviews, unique items, and unique categories\n",
    "* Q2.2 descriptive statistics, e.g., the total number, mean, std, min and max regarding all rating records\n",
    "* Q2.3 descriptive statistics, e.g., mean, std, max, and min of the number of items rated by different genders \n",
    "* Q2.4 descriptive statistics, e.g., mean, std, max, min of the number of ratings that received by each items \n"
   ]
  },
  {
   "cell_type": "markdown",
   "id": "142c9077",
   "metadata": {},
   "source": [
    "##### Q2.1: Uniqueness"
   ]
  },
  {
   "cell_type": "code",
   "execution_count": 7,
   "id": "78179c84",
   "metadata": {},
   "outputs": [
    {
     "name": "stdout",
     "output_type": "stream",
     "text": [
      "Number of unique for each fields is describe in the below table\n"
     ]
    },
    {
     "data": {
      "text/plain": [
       "userId         4326\n",
       "gender            2\n",
       "item             89\n",
       "rating            5\n",
       "review         9727\n",
       "helpfulness       6\n",
       "timestamp      1629\n",
       "category          9\n",
       "dtype: int64"
      ]
     },
     "execution_count": 7,
     "metadata": {},
     "output_type": "execute_result"
    }
   ],
   "source": [
    "# your code and solutions\n",
    "print('Number of unique for each fields is describe in the below table')\n",
    "epinions_clean.nunique()"
   ]
  },
  {
   "cell_type": "markdown",
   "id": "c77d3b1b",
   "metadata": {},
   "source": [
    "##### Q2.2: descriptive statistics for Rating column"
   ]
  },
  {
   "cell_type": "code",
   "execution_count": 8,
   "id": "c99273a8",
   "metadata": {},
   "outputs": [
    {
     "data": {
      "text/plain": [
       "count    9890.000000\n",
       "mean        3.701517\n",
       "std         1.387026\n",
       "min         1.000000\n",
       "25%         3.000000\n",
       "50%         4.000000\n",
       "75%         5.000000\n",
       "max         5.000000\n",
       "Name: rating, dtype: float64"
      ]
     },
     "execution_count": 8,
     "metadata": {},
     "output_type": "execute_result"
    }
   ],
   "source": [
    "epinions_clean.rating.describe()"
   ]
  },
  {
   "cell_type": "markdown",
   "id": "588bdb17",
   "metadata": {},
   "source": [
    "##### Q2.3: descriptive statistic for items by genders"
   ]
  },
  {
   "cell_type": "code",
   "execution_count": 9,
   "id": "0e1cb2af",
   "metadata": {},
   "outputs": [
    {
     "name": "stdout",
     "output_type": "stream",
     "text": [
      "Number of item review by each user\n"
     ]
    },
    {
     "data": {
      "text/html": [
       "<div>\n",
       "<style scoped>\n",
       "    .dataframe tbody tr th:only-of-type {\n",
       "        vertical-align: middle;\n",
       "    }\n",
       "\n",
       "    .dataframe tbody tr th {\n",
       "        vertical-align: top;\n",
       "    }\n",
       "\n",
       "    .dataframe thead th {\n",
       "        text-align: right;\n",
       "    }\n",
       "</style>\n",
       "<table border=\"1\" class=\"dataframe\">\n",
       "  <thead>\n",
       "    <tr style=\"text-align: right;\">\n",
       "      <th></th>\n",
       "      <th>userId</th>\n",
       "      <th>gender</th>\n",
       "      <th>item</th>\n",
       "    </tr>\n",
       "  </thead>\n",
       "  <tbody>\n",
       "    <tr>\n",
       "      <th>73</th>\n",
       "      <td>201</td>\n",
       "      <td>M</td>\n",
       "      <td>14</td>\n",
       "    </tr>\n",
       "    <tr>\n",
       "      <th>249</th>\n",
       "      <td>667</td>\n",
       "      <td>F</td>\n",
       "      <td>16</td>\n",
       "    </tr>\n",
       "    <tr>\n",
       "      <th>5551</th>\n",
       "      <td>15180</td>\n",
       "      <td>F</td>\n",
       "      <td>17</td>\n",
       "    </tr>\n",
       "    <tr>\n",
       "      <th>250</th>\n",
       "      <td>667</td>\n",
       "      <td>M</td>\n",
       "      <td>17</td>\n",
       "    </tr>\n",
       "    <tr>\n",
       "      <th>1399</th>\n",
       "      <td>3683</td>\n",
       "      <td>F</td>\n",
       "      <td>18</td>\n",
       "    </tr>\n",
       "  </tbody>\n",
       "</table>\n",
       "</div>"
      ],
      "text/plain": [
       "      userId gender  item\n",
       "73       201      M    14\n",
       "249      667      F    16\n",
       "5551   15180      F    17\n",
       "250      667      M    17\n",
       "1399    3683      F    18"
      ]
     },
     "execution_count": 9,
     "metadata": {},
     "output_type": "execute_result"
    }
   ],
   "source": [
    "## group number of ratings by userId, because each userId correspond to a gender\n",
    "items_by_user = epinions_clean[['item','userId','gender']].groupby(by=['userId','gender']).count().reset_index().sort_values(by='item')\n",
    "print('Number of item review by each user')\n",
    "items_by_user.tail()"
   ]
  },
  {
   "cell_type": "code",
   "execution_count": 27,
   "id": "dc72378b",
   "metadata": {},
   "outputs": [
    {
     "name": "stdout",
     "output_type": "stream",
     "text": [
      "Descriptive statistic for each genders\n"
     ]
    },
    {
     "data": {
      "text/html": [
       "<div>\n",
       "<style scoped>\n",
       "    .dataframe tbody tr th:only-of-type {\n",
       "        vertical-align: middle;\n",
       "    }\n",
       "\n",
       "    .dataframe tbody tr th {\n",
       "        vertical-align: top;\n",
       "    }\n",
       "\n",
       "    .dataframe thead th {\n",
       "        text-align: right;\n",
       "    }\n",
       "</style>\n",
       "<table border=\"1\" class=\"dataframe\">\n",
       "  <thead>\n",
       "    <tr style=\"text-align: right;\">\n",
       "      <th></th>\n",
       "      <th>count</th>\n",
       "      <th>mean</th>\n",
       "      <th>std</th>\n",
       "      <th>min</th>\n",
       "      <th>25%</th>\n",
       "      <th>50%</th>\n",
       "      <th>75%</th>\n",
       "      <th>max</th>\n",
       "    </tr>\n",
       "    <tr>\n",
       "      <th>gender</th>\n",
       "      <th></th>\n",
       "      <th></th>\n",
       "      <th></th>\n",
       "      <th></th>\n",
       "      <th></th>\n",
       "      <th></th>\n",
       "      <th></th>\n",
       "      <th></th>\n",
       "    </tr>\n",
       "  </thead>\n",
       "  <tbody>\n",
       "    <tr>\n",
       "      <th>F</th>\n",
       "      <td>2417.0</td>\n",
       "      <td>1.590401</td>\n",
       "      <td>1.193681</td>\n",
       "      <td>1.0</td>\n",
       "      <td>1.0</td>\n",
       "      <td>1.0</td>\n",
       "      <td>2.0</td>\n",
       "      <td>15.0</td>\n",
       "    </tr>\n",
       "    <tr>\n",
       "      <th>M</th>\n",
       "      <td>2347.0</td>\n",
       "      <td>1.584150</td>\n",
       "      <td>1.190351</td>\n",
       "      <td>1.0</td>\n",
       "      <td>1.0</td>\n",
       "      <td>1.0</td>\n",
       "      <td>2.0</td>\n",
       "      <td>11.0</td>\n",
       "    </tr>\n",
       "  </tbody>\n",
       "</table>\n",
       "</div>"
      ],
      "text/plain": [
       "         count      mean       std  min  25%  50%  75%   max\n",
       "gender                                                      \n",
       "F       2417.0  1.590401  1.193681  1.0  1.0  1.0  2.0  15.0\n",
       "M       2347.0  1.584150  1.190351  1.0  1.0  1.0  2.0  11.0"
      ]
     },
     "execution_count": 27,
     "metadata": {},
     "output_type": "execute_result"
    }
   ],
   "source": [
    "## descriptive statistics for both genders\n",
    "print('Descriptive statistic for each genders')\n",
    "items_by_user.groupby('gender').item.describe()"
   ]
  },
  {
   "cell_type": "markdown",
   "id": "2ef3673d",
   "metadata": {},
   "source": [
    "##### Q2.4: descriptive statistics for number of ratings by items"
   ]
  },
  {
   "cell_type": "code",
   "execution_count": 28,
   "id": "b71787b4",
   "metadata": {},
   "outputs": [
    {
     "name": "stdout",
     "output_type": "stream",
     "text": [
      "Number of rating correspond to each item\n"
     ]
    },
    {
     "data": {
      "text/html": [
       "<div>\n",
       "<style scoped>\n",
       "    .dataframe tbody tr th:only-of-type {\n",
       "        vertical-align: middle;\n",
       "    }\n",
       "\n",
       "    .dataframe tbody tr th {\n",
       "        vertical-align: top;\n",
       "    }\n",
       "\n",
       "    .dataframe thead th {\n",
       "        text-align: right;\n",
       "    }\n",
       "</style>\n",
       "<table border=\"1\" class=\"dataframe\">\n",
       "  <thead>\n",
       "    <tr style=\"text-align: right;\">\n",
       "      <th></th>\n",
       "      <th>item</th>\n",
       "      <th>rating</th>\n",
       "    </tr>\n",
       "  </thead>\n",
       "  <tbody>\n",
       "    <tr>\n",
       "      <th>41</th>\n",
       "      <td>McDonald's</td>\n",
       "      <td>184</td>\n",
       "    </tr>\n",
       "    <tr>\n",
       "      <th>46</th>\n",
       "      <td>NetZero</td>\n",
       "      <td>190</td>\n",
       "    </tr>\n",
       "    <tr>\n",
       "      <th>88</th>\n",
       "      <td>eBay</td>\n",
       "      <td>295</td>\n",
       "    </tr>\n",
       "    <tr>\n",
       "      <th>1</th>\n",
       "      <td>All Advantage</td>\n",
       "      <td>306</td>\n",
       "    </tr>\n",
       "    <tr>\n",
       "      <th>0</th>\n",
       "      <td>AOL (America Online)</td>\n",
       "      <td>446</td>\n",
       "    </tr>\n",
       "  </tbody>\n",
       "</table>\n",
       "</div>"
      ],
      "text/plain": [
       "                    item  rating\n",
       "41            McDonald's     184\n",
       "46               NetZero     190\n",
       "88                  eBay     295\n",
       "1          All Advantage     306\n",
       "0   AOL (America Online)     446"
      ]
     },
     "execution_count": 28,
     "metadata": {},
     "output_type": "execute_result"
    }
   ],
   "source": [
    "## number of rating received by each items\n",
    "rating_by_item = epinions_clean[['item', 'rating']].groupby(by=['item']).count().reset_index().sort_values(by='rating')\n",
    "print('Number of rating correspond to each item')\n",
    "rating_by_item.tail()"
   ]
  },
  {
   "cell_type": "code",
   "execution_count": 29,
   "id": "c5bdcee1",
   "metadata": {},
   "outputs": [
    {
     "name": "stdout",
     "output_type": "stream",
     "text": [
      "Descriptive statistic for number of rating for each items\n"
     ]
    },
    {
     "data": {
      "text/plain": [
       "count     89.000000\n",
       "mean     111.123596\n",
       "std       55.955709\n",
       "min       60.000000\n",
       "25%       82.000000\n",
       "50%       92.000000\n",
       "75%      121.000000\n",
       "max      446.000000\n",
       "Name: rating, dtype: float64"
      ]
     },
     "execution_count": 29,
     "metadata": {},
     "output_type": "execute_result"
    }
   ],
   "source": [
    "## descriptive statistics for number of ratings\n",
    "print('Descriptive statistic for number of rating for each items')\n",
    "rating_by_item.rating.describe()"
   ]
  },
  {
   "cell_type": "markdown",
   "id": "4c33e3ea",
   "metadata": {},
   "source": [
    "#### Q3. Plotting and Analysis\n",
    "\n",
    "Please try to explore the correlation between gender/helpfulness/category and ratings; for instance, do female/male users tend to provide higher ratings than male/female users? Hint: you may use the boxplot function to plot figures for comparison (___Challenge___)\n",
    "    \n",
    "You may need to select the most suitable graphic forms for ease of presentation. Most importantly, for each figure or subfigure, please summarise ___what each plot shows___ (i.e. observations and explanations). Finally, you may need to provide an overall summary of the data."
   ]
  },
  {
   "cell_type": "markdown",
   "id": "36b87104",
   "metadata": {},
   "source": [
    "##### Q3.1: Inspecting the correlation"
   ]
  },
  {
   "cell_type": "code",
   "execution_count": 13,
   "id": "ee144242",
   "metadata": {},
   "outputs": [
    {
     "data": {
      "text/html": [
       "<div>\n",
       "<style scoped>\n",
       "    .dataframe tbody tr th:only-of-type {\n",
       "        vertical-align: middle;\n",
       "    }\n",
       "\n",
       "    .dataframe tbody tr th {\n",
       "        vertical-align: top;\n",
       "    }\n",
       "\n",
       "    .dataframe thead th {\n",
       "        text-align: right;\n",
       "    }\n",
       "</style>\n",
       "<table border=\"1\" class=\"dataframe\">\n",
       "  <thead>\n",
       "    <tr style=\"text-align: right;\">\n",
       "      <th></th>\n",
       "      <th>userId</th>\n",
       "      <th>rating</th>\n",
       "      <th>helpfulness</th>\n",
       "      <th>timestamp</th>\n",
       "    </tr>\n",
       "  </thead>\n",
       "  <tbody>\n",
       "    <tr>\n",
       "      <th>userId</th>\n",
       "      <td>1.000000</td>\n",
       "      <td>-0.011542</td>\n",
       "      <td>-0.005755</td>\n",
       "      <td>0.027715</td>\n",
       "    </tr>\n",
       "    <tr>\n",
       "      <th>rating</th>\n",
       "      <td>-0.011542</td>\n",
       "      <td>1.000000</td>\n",
       "      <td>0.856504</td>\n",
       "      <td>-0.026702</td>\n",
       "    </tr>\n",
       "    <tr>\n",
       "      <th>helpfulness</th>\n",
       "      <td>-0.005755</td>\n",
       "      <td>0.856504</td>\n",
       "      <td>1.000000</td>\n",
       "      <td>-0.018776</td>\n",
       "    </tr>\n",
       "    <tr>\n",
       "      <th>timestamp</th>\n",
       "      <td>0.027715</td>\n",
       "      <td>-0.026702</td>\n",
       "      <td>-0.018776</td>\n",
       "      <td>1.000000</td>\n",
       "    </tr>\n",
       "  </tbody>\n",
       "</table>\n",
       "</div>"
      ],
      "text/plain": [
       "               userId    rating  helpfulness  timestamp\n",
       "userId       1.000000 -0.011542    -0.005755   0.027715\n",
       "rating      -0.011542  1.000000     0.856504  -0.026702\n",
       "helpfulness -0.005755  0.856504     1.000000  -0.018776\n",
       "timestamp    0.027715 -0.026702    -0.018776   1.000000"
      ]
     },
     "execution_count": 13,
     "metadata": {},
     "output_type": "execute_result"
    }
   ],
   "source": [
    "# your code and solutions\n",
    "## calculate correlation\n",
    "corr = epinions_clean.corr()\n",
    "corr"
   ]
  },
  {
   "cell_type": "code",
   "execution_count": 14,
   "id": "89421016",
   "metadata": {},
   "outputs": [
    {
     "data": {
      "text/plain": [
       "Text(0.5, 1.0, 'Heatmap of correlation in Epinion data')"
      ]
     },
     "execution_count": 14,
     "metadata": {},
     "output_type": "execute_result"
    },
    {
     "data": {
      "image/png": "[encoded data removed]",
      "text/plain": [
       "<Figure size 432x288 with 2 Axes>"
      ]
     },
     "metadata": {},
     "output_type": "display_data"
    }
   ],
   "source": [
    "## heatmap\n",
    "heatmap = sns.heatmap(data=corr, vmax=1,vmin=-1)\n",
    "heatmap.set_title('Heatmap of correlation in Epinion data')"
   ]
  },
  {
   "cell_type": "markdown",
   "id": "430082ca",
   "metadata": {},
   "source": [
    "As can be seen from the correlation table and the heatmap, while **rating and helpfulness** shows a high correlation score, at **0.86**, others pair show much lower correlation scores, at between **-0.06 and 0.06**. \n",
    "\n",
    "We can look further into the rating-helpfulness relation by plotting a scatter plot."
   ]
  },
  {
   "cell_type": "code",
   "execution_count": 15,
   "id": "25e550ca",
   "metadata": {},
   "outputs": [
    {
     "data": {
      "text/plain": [
       "Text(0.5, 1.0, 'Positive correlation between helpfuness and rating')"
      ]
     },
     "execution_count": 15,
     "metadata": {},
     "output_type": "execute_result"
    },
    {
     "data": {
      "image/png": "[encoded data removed]",
      "text/plain": [
       "<Figure size 360x360 with 1 Axes>"
      ]
     },
     "metadata": {},
     "output_type": "display_data"
    }
   ],
   "source": [
    "## scatter plot for helpfuness and rating\n",
    "sns.lmplot(x='helpfulness', y='rating', data=epinions_clean,\n",
    "           scatter_kws={'alpha': 0.2})\n",
    "plt.title('Positive correlation between helpfuness and rating')"
   ]
  },
  {
   "cell_type": "markdown",
   "id": "5f2da35a",
   "metadata": {},
   "source": [
    "The scatterplot shows a clear positive relation between rating and helpfulness, with higher rating score often goes with higher helpfulness. \n",
    "\n",
    "Notably, no review with **high rating**(rating= 4,5) having **low helpfulness score**(helpfulness=1,2). Similarly, there is **no** review with low helpfulness score and high rating in the data."
   ]
  },
  {
   "cell_type": "markdown",
   "id": "394996a8",
   "metadata": {},
   "source": [
    "##### Q3.2: Male - Female rating tendency"
   ]
  },
  {
   "cell_type": "markdown",
   "id": "2c87ee67",
   "metadata": {},
   "source": [
    "First, we can look at the descriptive statistic of rating by genders"
   ]
  },
  {
   "cell_type": "code",
   "execution_count": 16,
   "id": "c079f936",
   "metadata": {},
   "outputs": [
    {
     "data": {
      "text/html": [
       "<div>\n",
       "<style scoped>\n",
       "    .dataframe tbody tr th:only-of-type {\n",
       "        vertical-align: middle;\n",
       "    }\n",
       "\n",
       "    .dataframe tbody tr th {\n",
       "        vertical-align: top;\n",
       "    }\n",
       "\n",
       "    .dataframe thead th {\n",
       "        text-align: right;\n",
       "    }\n",
       "</style>\n",
       "<table border=\"1\" class=\"dataframe\">\n",
       "  <thead>\n",
       "    <tr style=\"text-align: right;\">\n",
       "      <th></th>\n",
       "      <th>count</th>\n",
       "      <th>mean</th>\n",
       "      <th>std</th>\n",
       "      <th>min</th>\n",
       "      <th>25%</th>\n",
       "      <th>50%</th>\n",
       "      <th>75%</th>\n",
       "      <th>max</th>\n",
       "    </tr>\n",
       "    <tr>\n",
       "      <th>gender</th>\n",
       "      <th></th>\n",
       "      <th></th>\n",
       "      <th></th>\n",
       "      <th></th>\n",
       "      <th></th>\n",
       "      <th></th>\n",
       "      <th></th>\n",
       "      <th></th>\n",
       "    </tr>\n",
       "  </thead>\n",
       "  <tbody>\n",
       "    <tr>\n",
       "      <th>F</th>\n",
       "      <td>5025.0</td>\n",
       "      <td>3.712040</td>\n",
       "      <td>1.387954</td>\n",
       "      <td>1.0</td>\n",
       "      <td>3.0</td>\n",
       "      <td>4.0</td>\n",
       "      <td>5.0</td>\n",
       "      <td>5.0</td>\n",
       "    </tr>\n",
       "    <tr>\n",
       "      <th>M</th>\n",
       "      <td>4865.0</td>\n",
       "      <td>3.690647</td>\n",
       "      <td>1.386126</td>\n",
       "      <td>1.0</td>\n",
       "      <td>3.0</td>\n",
       "      <td>4.0</td>\n",
       "      <td>5.0</td>\n",
       "      <td>5.0</td>\n",
       "    </tr>\n",
       "  </tbody>\n",
       "</table>\n",
       "</div>"
      ],
      "text/plain": [
       "         count      mean       std  min  25%  50%  75%  max\n",
       "gender                                                     \n",
       "F       5025.0  3.712040  1.387954  1.0  3.0  4.0  5.0  5.0\n",
       "M       4865.0  3.690647  1.386126  1.0  3.0  4.0  5.0  5.0"
      ]
     },
     "execution_count": 16,
     "metadata": {},
     "output_type": "execute_result"
    }
   ],
   "source": [
    "## group data by gender and only look at the rating\n",
    "male_rating=epinions_clean[epinions_clean.gender == 'M']\n",
    "female_rating=epinions_clean[epinions_clean.gender == 'F']\n",
    "epinions_clean.groupby('gender').rating.describe()"
   ]
  },
  {
   "cell_type": "markdown",
   "id": "969aa640",
   "metadata": {},
   "source": [
    "As can be seen, there is not much a difference between figures of male and female.\n",
    "\n",
    "Next, let's look at the rating distribution of both gender."
   ]
  },
  {
   "cell_type": "code",
   "execution_count": 17,
   "id": "7805da0d",
   "metadata": {},
   "outputs": [
    {
     "data": {
      "text/plain": [
       "Text(0.5, 0.98, 'Distribution of male and female rating')"
      ]
     },
     "execution_count": 17,
     "metadata": {},
     "output_type": "execute_result"
    },
    {
     "data": {
      "image/png": "[encoded data removed]",
      "text/plain": [
       "<Figure size 1152x432 with 2 Axes>"
      ]
     },
     "metadata": {},
     "output_type": "display_data"
    }
   ],
   "source": [
    "## histogram for both gender separately\n",
    "hist_fig = plt.figure(figsize=(16,6))\n",
    "plt.subplot(1, 2, 1)\n",
    "sns.histplot(male_rating, x='rating',\n",
    "             kde=True,binwidth=1)\n",
    "plt.title('Male')\n",
    "plt.subplot(1, 2, 2)\n",
    "sns.histplot(female_rating, x='rating',\n",
    "             kde=True,binwidth=1,color='indianred')\n",
    "plt.title('Female')\n",
    "hist_fig.suptitle('Distribution of male and female rating')\n"
   ]
  },
  {
   "cell_type": "markdown",
   "id": "3534566d",
   "metadata": {},
   "source": [
    "Histograms shows the distribution of male vs female ratings, and there seems to be little difference between the two. Both are unimodal distribution with mode are at **5 rating score**, and both are left skewed with the highest bin at 5 rating score. We can take a further look if there is a different by a box plot."
   ]
  },
  {
   "cell_type": "code",
   "execution_count": 18,
   "id": "bc9028be",
   "metadata": {},
   "outputs": [
    {
     "data": {
      "text/plain": [
       "Text(0.5, 1.0, 'Male and Female rating comparision')"
      ]
     },
     "execution_count": 18,
     "metadata": {},
     "output_type": "execute_result"
    },
    {
     "data": {
      "image/png": "[encoded data removed]",
      "text/plain": [
       "<Figure size 432x288 with 1 Axes>"
      ]
     },
     "metadata": {},
     "output_type": "display_data"
    }
   ],
   "source": [
    "sns.boxplot(data=epinions_clean, x='gender', y='rating')\n",
    "plt.title('Male and Female rating comparision')"
   ]
  },
  {
   "cell_type": "markdown",
   "id": "2ebf821d",
   "metadata": {},
   "source": [
    "From the box plots, we can see that the median male rating is 4 score\n",
    "and the median female life expectancy is also 4 score. The variability of the interquartile range is equal for males and females. There are no outliers for either gender.\n",
    "\n",
    "Therefore, the hypothesis that female/male users tend to provide higher ratings than male/female users is not true with the given dataset."
   ]
  },
  {
   "cell_type": "markdown",
   "id": "1604fa09",
   "metadata": {},
   "source": [
    "##### Q3.3: Overall summary\n",
    "\n",
    "In conclusion, after doing some data exploration, we can conclude that with the given dataset, there is a positive relation between **rating and helpfulness**. On the other hand, the hypothesis that the gender of user can affect rating score is showed to be not true in this case."
   ]
  },
  {
   "cell_type": "markdown",
   "id": "e366ab83",
   "metadata": {},
   "source": [
    "#### Q4. Detect and remove outliers\n",
    "\n",
    "We may define outlier users, reviews and items with three rules (if a record meets one of the rules, it is regarded as an outlier):\n",
    "\n",
    "* reviews of which the helpfulness is no more than 2\n",
    "* users who rate less than 7 items\n",
    "* items that receives less than 11 ratings \n",
    " \n",
    "Please remove the corresponding records in the csv file that involves outlier users, reviews and items. After that, __print the length of the data__."
   ]
  },
  {
   "cell_type": "code",
   "execution_count": 19,
   "id": "d9542fba",
   "metadata": {},
   "outputs": [
    {
     "name": "stdout",
     "output_type": "stream",
     "text": [
      "Length of data before remove outliers 9890\n"
     ]
    }
   ],
   "source": [
    "# your code and solutions\n",
    "print('Length of data before remove outliers', len(epinions_clean))"
   ]
  },
  {
   "cell_type": "markdown",
   "id": "e72ab3a9",
   "metadata": {},
   "source": [
    "##### Q4.1: Reviews of which the helpfulness is no more than 2"
   ]
  },
  {
   "cell_type": "code",
   "execution_count": 20,
   "id": "fe7a4250",
   "metadata": {},
   "outputs": [
    {
     "name": "stdout",
     "output_type": "stream",
     "text": [
      "Number of reviews with no more than 2 helpfulness score: 2328\n"
     ]
    },
    {
     "data": {
      "text/html": [
       "<div>\n",
       "<style scoped>\n",
       "    .dataframe tbody tr th:only-of-type {\n",
       "        vertical-align: middle;\n",
       "    }\n",
       "\n",
       "    .dataframe tbody tr th {\n",
       "        vertical-align: top;\n",
       "    }\n",
       "\n",
       "    .dataframe thead th {\n",
       "        text-align: right;\n",
       "    }\n",
       "</style>\n",
       "<table border=\"1\" class=\"dataframe\">\n",
       "  <thead>\n",
       "    <tr style=\"text-align: right;\">\n",
       "      <th></th>\n",
       "      <th>userId</th>\n",
       "      <th>gender</th>\n",
       "      <th>item</th>\n",
       "      <th>rating</th>\n",
       "      <th>review</th>\n",
       "      <th>helpfulness</th>\n",
       "      <th>timestamp</th>\n",
       "      <th>category</th>\n",
       "    </tr>\n",
       "  </thead>\n",
       "  <tbody>\n",
       "    <tr>\n",
       "      <th>1</th>\n",
       "      <td>10222</td>\n",
       "      <td>M</td>\n",
       "      <td>NetFlix</td>\n",
       "      <td>2.0</td>\n",
       "      <td>Don't Bother Unless you live in a remote area</td>\n",
       "      <td>2.0</td>\n",
       "      <td>41604</td>\n",
       "      <td>Online Stores &amp; Services</td>\n",
       "    </tr>\n",
       "    <tr>\n",
       "      <th>6</th>\n",
       "      <td>9525</td>\n",
       "      <td>M</td>\n",
       "      <td>Applebee's</td>\n",
       "      <td>2.0</td>\n",
       "      <td>Not my first dining choice - Applebee's (the W...</td>\n",
       "      <td>2.0</td>\n",
       "      <td>83105</td>\n",
       "      <td>Restaurants &amp; Gourmet</td>\n",
       "    </tr>\n",
       "    <tr>\n",
       "      <th>18</th>\n",
       "      <td>9765</td>\n",
       "      <td>M</td>\n",
       "      <td>All Advantage</td>\n",
       "      <td>1.0</td>\n",
       "      <td>How Low will they go??</td>\n",
       "      <td>2.0</td>\n",
       "      <td>100700</td>\n",
       "      <td>Online Stores &amp; Services</td>\n",
       "    </tr>\n",
       "    <tr>\n",
       "      <th>22</th>\n",
       "      <td>11818</td>\n",
       "      <td>F</td>\n",
       "      <td>Scary Movie</td>\n",
       "      <td>3.0</td>\n",
       "      <td>A great see-it-once comedy</td>\n",
       "      <td>2.0</td>\n",
       "      <td>61201</td>\n",
       "      <td>Movies</td>\n",
       "    </tr>\n",
       "    <tr>\n",
       "      <th>23</th>\n",
       "      <td>11818</td>\n",
       "      <td>M</td>\n",
       "      <td>AOL (America Online)</td>\n",
       "      <td>2.0</td>\n",
       "      <td>AOL still hasn't changed since it's debut</td>\n",
       "      <td>2.0</td>\n",
       "      <td>61501</td>\n",
       "      <td>Online Stores &amp; Services</td>\n",
       "    </tr>\n",
       "  </tbody>\n",
       "</table>\n",
       "</div>"
      ],
      "text/plain": [
       "    userId gender                  item  rating  \\\n",
       "1    10222      M               NetFlix     2.0   \n",
       "6     9525      M            Applebee's     2.0   \n",
       "18    9765      M         All Advantage     1.0   \n",
       "22   11818      F           Scary Movie     3.0   \n",
       "23   11818      M  AOL (America Online)     2.0   \n",
       "\n",
       "                                               review  helpfulness  timestamp  \\\n",
       "1       Don't Bother Unless you live in a remote area          2.0      41604   \n",
       "6   Not my first dining choice - Applebee's (the W...          2.0      83105   \n",
       "18                             How Low will they go??          2.0     100700   \n",
       "22                         A great see-it-once comedy          2.0      61201   \n",
       "23          AOL still hasn't changed since it's debut          2.0      61501   \n",
       "\n",
       "                    category  \n",
       "1   Online Stores & Services  \n",
       "6      Restaurants & Gourmet  \n",
       "18  Online Stores & Services  \n",
       "22                    Movies  \n",
       "23  Online Stores & Services  "
      ]
     },
     "execution_count": 20,
     "metadata": {},
     "output_type": "execute_result"
    }
   ],
   "source": [
    "\n",
    "## reviews of which the helpfulness is no more than 2\n",
    "low_rating = epinions_clean[epinions_clean.helpfulness <= 2]\n",
    "print('Number of reviews with no more than 2 helpfulness score:', len(low_rating))\n",
    "low_rating.head()"
   ]
  },
  {
   "cell_type": "code",
   "execution_count": 30,
   "id": "466f39aa",
   "metadata": {},
   "outputs": [
    {
     "name": "stdout",
     "output_type": "stream",
     "text": [
      "The minimum rating now increase to 3\n"
     ]
    },
    {
     "data": {
      "text/plain": [
       "count    7562.000000\n",
       "mean        4.420788\n",
       "std         0.994300\n",
       "min         3.000000\n",
       "25%         4.000000\n",
       "50%         4.000000\n",
       "75%         5.000000\n",
       "max         6.000000\n",
       "Name: helpfulness, dtype: float64"
      ]
     },
     "execution_count": 30,
     "metadata": {},
     "output_type": "execute_result"
    }
   ],
   "source": [
    "## drop low rating reviews\n",
    "epinions_final = epinions_clean.drop(index=low_rating.index)\n",
    "print(\"The minimum rating now increase to 3\")\n",
    "epinions_final.helpfulness.describe()"
   ]
  },
  {
   "cell_type": "markdown",
   "id": "17e4aa9c",
   "metadata": {},
   "source": [
    "##### Q4.2: Users who rated less than 7 items"
   ]
  },
  {
   "cell_type": "code",
   "execution_count": 22,
   "id": "026cd8cd",
   "metadata": {},
   "outputs": [
    {
     "name": "stdout",
     "output_type": "stream",
     "text": [
      "Number of users who rate less than 7 items: 4712\n"
     ]
    },
    {
     "data": {
      "text/html": [
       "<div>\n",
       "<style scoped>\n",
       "    .dataframe tbody tr th:only-of-type {\n",
       "        vertical-align: middle;\n",
       "    }\n",
       "\n",
       "    .dataframe tbody tr th {\n",
       "        vertical-align: top;\n",
       "    }\n",
       "\n",
       "    .dataframe thead th {\n",
       "        text-align: right;\n",
       "    }\n",
       "</style>\n",
       "<table border=\"1\" class=\"dataframe\">\n",
       "  <thead>\n",
       "    <tr style=\"text-align: right;\">\n",
       "      <th></th>\n",
       "      <th>userId</th>\n",
       "      <th>gender</th>\n",
       "      <th>item</th>\n",
       "    </tr>\n",
       "  </thead>\n",
       "  <tbody>\n",
       "    <tr>\n",
       "      <th>3537</th>\n",
       "      <td>11671</td>\n",
       "      <td>F</td>\n",
       "      <td>6</td>\n",
       "    </tr>\n",
       "    <tr>\n",
       "      <th>4586</th>\n",
       "      <td>15131</td>\n",
       "      <td>M</td>\n",
       "      <td>6</td>\n",
       "    </tr>\n",
       "    <tr>\n",
       "      <th>1533</th>\n",
       "      <td>4842</td>\n",
       "      <td>M</td>\n",
       "      <td>6</td>\n",
       "    </tr>\n",
       "    <tr>\n",
       "      <th>2533</th>\n",
       "      <td>8367</td>\n",
       "      <td>M</td>\n",
       "      <td>6</td>\n",
       "    </tr>\n",
       "    <tr>\n",
       "      <th>1059</th>\n",
       "      <td>3228</td>\n",
       "      <td>F</td>\n",
       "      <td>6</td>\n",
       "    </tr>\n",
       "  </tbody>\n",
       "</table>\n",
       "</div>"
      ],
      "text/plain": [
       "      userId gender  item\n",
       "3537   11671      F     6\n",
       "4586   15131      M     6\n",
       "1533    4842      M     6\n",
       "2533    8367      M     6\n",
       "1059    3228      F     6"
      ]
     },
     "execution_count": 22,
     "metadata": {},
     "output_type": "execute_result"
    }
   ],
   "source": [
    "## item_by_user is contructed in Q2.3\n",
    "items_by_user = epinions_final[['item','userId','gender']].groupby(by=['userId','gender']).count().reset_index().sort_values(by='item')\n",
    "\n",
    "## users who rate less then 7 items\n",
    "user_few_rating = items_by_user[items_by_user.item < 7]\n",
    "print('Number of users who rate less than 7 items:', len(user_few_rating))\n",
    "user_few_rating.tail()"
   ]
  },
  {
   "cell_type": "code",
   "execution_count": 31,
   "id": "757c0ed8",
   "metadata": {},
   "outputs": [
    {
     "name": "stdout",
     "output_type": "stream",
     "text": [
      "The minimum number of items rated by user now increase to 7\n"
     ]
    },
    {
     "data": {
      "text/plain": [
       "count    25.000000\n",
       "mean      9.120000\n",
       "std       2.185559\n",
       "min       7.000000\n",
       "25%       7.000000\n",
       "50%       9.000000\n",
       "75%      11.000000\n",
       "max      15.000000\n",
       "Name: item, dtype: float64"
      ]
     },
     "execution_count": 31,
     "metadata": {},
     "output_type": "execute_result"
    }
   ],
   "source": [
    "## remove user with few ratings\n",
    "epinions_final = epinions_final[epinions_final.userId.isin(user_few_rating.userId) == False]\n",
    "\n",
    "print(\"The minimum number of items rated by user now increase to 7\")\n",
    "epinions_final[['item','userId','gender']].groupby(by=['userId','gender']).count().reset_index().sort_values(by='item').item.describe()"
   ]
  },
  {
   "cell_type": "markdown",
   "id": "a74b3cfc",
   "metadata": {},
   "source": [
    "##### Q4.3: Items that received less than 11 ratings"
   ]
  },
  {
   "cell_type": "code",
   "execution_count": 24,
   "id": "b37b5326",
   "metadata": {},
   "outputs": [
    {
     "name": "stdout",
     "output_type": "stream",
     "text": [
      "Number of items that received less than 11 ratings: 68\n"
     ]
    },
    {
     "data": {
      "text/html": [
       "<div>\n",
       "<style scoped>\n",
       "    .dataframe tbody tr th:only-of-type {\n",
       "        vertical-align: middle;\n",
       "    }\n",
       "\n",
       "    .dataframe tbody tr th {\n",
       "        vertical-align: top;\n",
       "    }\n",
       "\n",
       "    .dataframe thead th {\n",
       "        text-align: right;\n",
       "    }\n",
       "</style>\n",
       "<table border=\"1\" class=\"dataframe\">\n",
       "  <thead>\n",
       "    <tr style=\"text-align: right;\">\n",
       "      <th></th>\n",
       "      <th>item</th>\n",
       "      <th>rating</th>\n",
       "    </tr>\n",
       "  </thead>\n",
       "  <tbody>\n",
       "    <tr>\n",
       "      <th>45</th>\n",
       "      <td>Priceline Flight Reservations</td>\n",
       "      <td>1</td>\n",
       "    </tr>\n",
       "    <tr>\n",
       "      <th>16</th>\n",
       "      <td>Deep Blue Sea</td>\n",
       "      <td>1</td>\n",
       "    </tr>\n",
       "    <tr>\n",
       "      <th>55</th>\n",
       "      <td>Star Wars Episode I: The Phantom Menace</td>\n",
       "      <td>1</td>\n",
       "    </tr>\n",
       "    <tr>\n",
       "      <th>23</th>\n",
       "      <td>FreeRide.com</td>\n",
       "      <td>1</td>\n",
       "    </tr>\n",
       "    <tr>\n",
       "      <th>12</th>\n",
       "      <td>BlueLight.com</td>\n",
       "      <td>1</td>\n",
       "    </tr>\n",
       "  </tbody>\n",
       "</table>\n",
       "</div>"
      ],
      "text/plain": [
       "                                       item  rating\n",
       "45            Priceline Flight Reservations       1\n",
       "16                            Deep Blue Sea       1\n",
       "55  Star Wars Episode I: The Phantom Menace       1\n",
       "23                             FreeRide.com       1\n",
       "12                            BlueLight.com       1"
      ]
     },
     "execution_count": 24,
     "metadata": {},
     "output_type": "execute_result"
    }
   ],
   "source": [
    "## rating_by_item come from Q2.4\n",
    "rating_by_item = epinions_final[['item', 'rating']].groupby(by=['item']).count().reset_index().sort_values(by='rating')\n",
    "\n",
    "## items that received less than 11 ratings\n",
    "few_rating_items = rating_by_item[rating_by_item.rating < 11]\n",
    "print('Number of items that received less than 11 ratings:',len(few_rating_items))\n",
    "few_rating_items.head()"
   ]
  },
  {
   "cell_type": "code",
   "execution_count": 25,
   "id": "4cd94fab",
   "metadata": {},
   "outputs": [
    {
     "name": "stdout",
     "output_type": "stream",
     "text": [
      "Minimum rating of an item now increased above 11\n"
     ]
    },
    {
     "data": {
      "text/plain": [
       "count     1.0\n",
       "mean     17.0\n",
       "std       NaN\n",
       "min      17.0\n",
       "25%      17.0\n",
       "50%      17.0\n",
       "75%      17.0\n",
       "max      17.0\n",
       "Name: rating, dtype: float64"
      ]
     },
     "execution_count": 25,
     "metadata": {},
     "output_type": "execute_result"
    }
   ],
   "source": [
    "## remove items that have few ratings\n",
    "epinions_final = epinions_final[epinions_final.item.isin(few_rating_items.item) == False]\n",
    "\n",
    "print('Minimum rating of an item now increased above 11')\n",
    "epinions_final[['item', 'rating']].groupby(by=['item']).count().reset_index().sort_values(by='rating').rating.describe()"
   ]
  },
  {
   "cell_type": "markdown",
   "id": "684a3942",
   "metadata": {},
   "source": [
    "##### Q4.4: Output final data to Epinion_clea_data.csv"
   ]
  },
  {
   "cell_type": "code",
   "execution_count": 26,
   "id": "91bf19b8",
   "metadata": {},
   "outputs": [
    {
     "name": "stdout",
     "output_type": "stream",
     "text": [
      "Length of data after remove outliers 17\n"
     ]
    }
   ],
   "source": [
    "print('Length of data after remove outliers', len(epinions_final))\n",
    "## output the final data to csv file\n",
    "epinions_final.to_csv('Epinion_clean_data.csv')"
   ]
  }
 ],
 "metadata": {
  "kernelspec": {
   "display_name": "Python 3 (ipykernel)",
   "language": "python",
   "name": "python3"
  },
  "language_info": {
   "codemirror_mode": {
    "name": "ipython",
    "version": 3
   },
   "file_extension": ".py",
   "mimetype": "text/x-python",
   "name": "python",
   "nbconvert_exporter": "python",
   "pygments_lexer": "ipython3",
   "version": "3.8.9"
  },
  "vscode": {
   "interpreter": {
    "hash": "31f2aee4e71d21fbe5cf8b01ff0e069b9275f58929596ceb00d14d90e3e16cd6"
   }
  }
 },
 "nbformat": 4,
 "nbformat_minor": 5
}
