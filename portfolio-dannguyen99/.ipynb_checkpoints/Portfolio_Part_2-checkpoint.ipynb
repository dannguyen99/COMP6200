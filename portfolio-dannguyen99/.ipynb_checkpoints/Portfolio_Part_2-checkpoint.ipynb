{
 "cells": [
  {
   "cell_type": "markdown",
   "id": "701a94f9",
   "metadata": {},
   "source": [
    "## Analysis of Epinions Dataset Part 2"
   ]
  },
  {
   "cell_type": "markdown",
   "id": "bf6bfb11",
   "metadata": {},
   "source": [
    "The goal of the second analysis task is to train linear regression models to predict users' ratings towards items. This involves a standard Data Science workflow: exploring data, building models, making predictions, and evaluating results. In this task, we will explore the impacts of feature selections and different sizes of training/testing data on the model performance. We will use another cleaned Epinions sub-dataset that is different from the one in Portfolio 1. "
   ]
  },
  {
   "cell_type": "markdown",
   "id": "4cd5f294",
   "metadata": {},
   "source": [
    "### Import Cleaned Epinions Dataset\n",
    "The csv file named 'Epinions_cleaned_data_portfolio_2.csv'is provided. Please import the csv file (i.e., 'Epinions_cleaned_data_portfolio_2') and print out its total length."
   ]
  },
  {
   "cell_type": "code",
   "execution_count": 173,
   "id": "6eeddec9",
   "metadata": {},
   "outputs": [],
   "source": [
    "# your code and solution\n",
    "import pandas as pd\n",
    "import matplotlib.pyplot as plt\n",
    "import numpy as np\n",
    "import seaborn as sns\n",
    "from sklearn.preprocessing import OrdinalEncoder\n",
    "from sklearn.model_selection import train_test_split\n",
    "from sklearn import linear_model\n",
    "from sklearn.metrics import r2_score, mean_squared_error\n",
    "\n",
    "%matplotlib inline\n",
    "\n",
    "sns.set_theme()\n"
   ]
  },
  {
   "cell_type": "code",
   "execution_count": 174,
   "id": "c8445f1f",
   "metadata": {},
   "outputs": [
    {
     "data": {
      "text/plain": [
       "(2899, 8)"
      ]
     },
     "execution_count": 174,
     "metadata": {},
     "output_type": "execute_result"
    }
   ],
   "source": [
    "epinion = pd.read_csv('files/Epinions_cleaned_data_portfolio_2.csv')\n",
    "epinion.shape\n"
   ]
  },
  {
   "cell_type": "markdown",
   "id": "82434f50",
   "metadata": {},
   "source": [
    "### Explore the Dataset\n",
    "\n",
    "* Use the methods, i.e., `head()` and `info()`, to have a rough picture about the data, e.g., how many columns, and the data types of each column. \n",
    "* As our goal is to predict ratings given other columns, please get the correlations between helpfulness/gender/category/review and rating by using the `corr()` method.\n",
    "* To get the correlations between different features, you may need to first convert the categorical features (i.e., gender, category and review) into numerial values. For doing this, you may need to import `OrdinalEncoder` from `sklearn.preprocessing` (refer to the useful exmaples [here](https://pbpython.com/categorical-encoding.html))\n",
    "* Please provide ___necessary explanations/analysis___ on the correlations, and figure out which are the ___most___ and ___least___ corrleated features regarding rating (positive or negative). Try to ___discuss___ how the correlation will affect the final prediction results, if we use these features to train a regression model for rating prediction. In what follows, we will conduct experiments to verify your hypothesis."
   ]
  },
  {
   "cell_type": "code",
   "execution_count": 175,
   "id": "a35bb503",
   "metadata": {},
   "outputs": [
    {
     "data": {
      "text/html": [
       "<div>\n",
       "<style scoped>\n",
       "    .dataframe tbody tr th:only-of-type {\n",
       "        vertical-align: middle;\n",
       "    }\n",
       "\n",
       "    .dataframe tbody tr th {\n",
       "        vertical-align: top;\n",
       "    }\n",
       "\n",
       "    .dataframe thead th {\n",
       "        text-align: right;\n",
       "    }\n",
       "</style>\n",
       "<table border=\"1\" class=\"dataframe\">\n",
       "  <thead>\n",
       "    <tr style=\"text-align: right;\">\n",
       "      <th></th>\n",
       "      <th>userId</th>\n",
       "      <th>timestamp</th>\n",
       "      <th>review</th>\n",
       "      <th>item</th>\n",
       "      <th>rating</th>\n",
       "      <th>helpfulness</th>\n",
       "      <th>gender</th>\n",
       "      <th>category</th>\n",
       "    </tr>\n",
       "  </thead>\n",
       "  <tbody>\n",
       "    <tr>\n",
       "      <th>0</th>\n",
       "      <td>4259</td>\n",
       "      <td>11900</td>\n",
       "      <td>Finally, Something for (Relatively) Nothing</td>\n",
       "      <td>MyPoints.com</td>\n",
       "      <td>4.0</td>\n",
       "      <td>4.0</td>\n",
       "      <td>F</td>\n",
       "      <td>Online Stores &amp; Services</td>\n",
       "    </tr>\n",
       "    <tr>\n",
       "      <th>1</th>\n",
       "      <td>4259</td>\n",
       "      <td>12000</td>\n",
       "      <td>Shocking!</td>\n",
       "      <td>Sixth Sense</td>\n",
       "      <td>5.0</td>\n",
       "      <td>4.0</td>\n",
       "      <td>F</td>\n",
       "      <td>Movies</td>\n",
       "    </tr>\n",
       "    <tr>\n",
       "      <th>2</th>\n",
       "      <td>4259</td>\n",
       "      <td>12000</td>\n",
       "      <td>Simply Shaggadelic!</td>\n",
       "      <td>Austin Powers: The Spy Who Shagged Me</td>\n",
       "      <td>5.0</td>\n",
       "      <td>4.0</td>\n",
       "      <td>F</td>\n",
       "      <td>Movies</td>\n",
       "    </tr>\n",
       "    <tr>\n",
       "      <th>3</th>\n",
       "      <td>4259</td>\n",
       "      <td>12000</td>\n",
       "      <td>Better Than The First!</td>\n",
       "      <td>Toy Story 2</td>\n",
       "      <td>5.0</td>\n",
       "      <td>3.0</td>\n",
       "      <td>F</td>\n",
       "      <td>Movies</td>\n",
       "    </tr>\n",
       "    <tr>\n",
       "      <th>4</th>\n",
       "      <td>4259</td>\n",
       "      <td>12000</td>\n",
       "      <td>Blair Witch made me appreciate this</td>\n",
       "      <td>Star Wars Episode I: The Phantom Menace</td>\n",
       "      <td>2.0</td>\n",
       "      <td>4.0</td>\n",
       "      <td>F</td>\n",
       "      <td>Movies</td>\n",
       "    </tr>\n",
       "  </tbody>\n",
       "</table>\n",
       "</div>"
      ],
      "text/plain": [
       "   userId  timestamp                                       review  \\\n",
       "0    4259      11900  Finally, Something for (Relatively) Nothing   \n",
       "1    4259      12000                                    Shocking!   \n",
       "2    4259      12000                          Simply Shaggadelic!   \n",
       "3    4259      12000                       Better Than The First!   \n",
       "4    4259      12000          Blair Witch made me appreciate this   \n",
       "\n",
       "                                      item  rating  helpfulness gender  \\\n",
       "0                             MyPoints.com     4.0          4.0      F   \n",
       "1                              Sixth Sense     5.0          4.0      F   \n",
       "2    Austin Powers: The Spy Who Shagged Me     5.0          4.0      F   \n",
       "3                              Toy Story 2     5.0          3.0      F   \n",
       "4  Star Wars Episode I: The Phantom Menace     2.0          4.0      F   \n",
       "\n",
       "                   category  \n",
       "0  Online Stores & Services  \n",
       "1                    Movies  \n",
       "2                    Movies  \n",
       "3                    Movies  \n",
       "4                    Movies  "
      ]
     },
     "execution_count": 175,
     "metadata": {},
     "output_type": "execute_result"
    }
   ],
   "source": [
    "# your code and solution\n",
    "epinion.head()\n"
   ]
  },
  {
   "cell_type": "code",
   "execution_count": 176,
   "id": "4ec96aa2",
   "metadata": {},
   "outputs": [
    {
     "name": "stdout",
     "output_type": "stream",
     "text": [
      "<class 'pandas.core.frame.DataFrame'>\n",
      "RangeIndex: 2899 entries, 0 to 2898\n",
      "Data columns (total 8 columns):\n",
      " #   Column       Non-Null Count  Dtype  \n",
      "---  ------       --------------  -----  \n",
      " 0   userId       2899 non-null   int64  \n",
      " 1   timestamp    2899 non-null   int64  \n",
      " 2   review       2899 non-null   object \n",
      " 3   item         2899 non-null   object \n",
      " 4   rating       2899 non-null   float64\n",
      " 5   helpfulness  2899 non-null   float64\n",
      " 6   gender       2899 non-null   object \n",
      " 7   category     2899 non-null   object \n",
      "dtypes: float64(2), int64(2), object(4)\n",
      "memory usage: 181.3+ KB\n"
     ]
    }
   ],
   "source": [
    "epinion.info()\n"
   ]
  },
  {
   "cell_type": "markdown",
   "id": "a8d9d7cf",
   "metadata": {},
   "source": [
    "#### Encode categorical features"
   ]
  },
  {
   "cell_type": "code",
   "execution_count": 177,
   "id": "5bb8765b",
   "metadata": {},
   "outputs": [
    {
     "data": {
      "text/plain": [
       "Movies                      1317\n",
       "Online Stores & Services     640\n",
       "Restaurants & Gourmet        279\n",
       "Hotels & Travel              158\n",
       "Kids & Family                152\n",
       "Media                        145\n",
       "Games                        113\n",
       "Personal Finance              69\n",
       "Books                         26\n",
       "Name: category, dtype: int64"
      ]
     },
     "execution_count": 177,
     "metadata": {},
     "output_type": "execute_result"
    }
   ],
   "source": [
    "epinion.category.value_counts()\n"
   ]
  },
  {
   "cell_type": "code",
   "execution_count": 178,
   "id": "0925bb0d",
   "metadata": {},
   "outputs": [
    {
     "data": {
      "text/html": [
       "<div>\n",
       "<style scoped>\n",
       "    .dataframe tbody tr th:only-of-type {\n",
       "        vertical-align: middle;\n",
       "    }\n",
       "\n",
       "    .dataframe tbody tr th {\n",
       "        vertical-align: top;\n",
       "    }\n",
       "\n",
       "    .dataframe thead th {\n",
       "        text-align: right;\n",
       "    }\n",
       "</style>\n",
       "<table border=\"1\" class=\"dataframe\">\n",
       "  <thead>\n",
       "    <tr style=\"text-align: right;\">\n",
       "      <th></th>\n",
       "      <th>category</th>\n",
       "      <th>category_code</th>\n",
       "    </tr>\n",
       "  </thead>\n",
       "  <tbody>\n",
       "    <tr>\n",
       "      <th>0</th>\n",
       "      <td>Online Stores &amp; Services</td>\n",
       "      <td>6.0</td>\n",
       "    </tr>\n",
       "    <tr>\n",
       "      <th>1</th>\n",
       "      <td>Movies</td>\n",
       "      <td>5.0</td>\n",
       "    </tr>\n",
       "    <tr>\n",
       "      <th>2</th>\n",
       "      <td>Movies</td>\n",
       "      <td>5.0</td>\n",
       "    </tr>\n",
       "    <tr>\n",
       "      <th>3</th>\n",
       "      <td>Movies</td>\n",
       "      <td>5.0</td>\n",
       "    </tr>\n",
       "    <tr>\n",
       "      <th>4</th>\n",
       "      <td>Movies</td>\n",
       "      <td>5.0</td>\n",
       "    </tr>\n",
       "    <tr>\n",
       "      <th>5</th>\n",
       "      <td>Hotels &amp; Travel</td>\n",
       "      <td>2.0</td>\n",
       "    </tr>\n",
       "    <tr>\n",
       "      <th>6</th>\n",
       "      <td>Online Stores &amp; Services</td>\n",
       "      <td>6.0</td>\n",
       "    </tr>\n",
       "    <tr>\n",
       "      <th>7</th>\n",
       "      <td>Movies</td>\n",
       "      <td>5.0</td>\n",
       "    </tr>\n",
       "    <tr>\n",
       "      <th>8</th>\n",
       "      <td>Hotels &amp; Travel</td>\n",
       "      <td>2.0</td>\n",
       "    </tr>\n",
       "    <tr>\n",
       "      <th>9</th>\n",
       "      <td>Movies</td>\n",
       "      <td>5.0</td>\n",
       "    </tr>\n",
       "  </tbody>\n",
       "</table>\n",
       "</div>"
      ],
      "text/plain": [
       "                   category  category_code\n",
       "0  Online Stores & Services            6.0\n",
       "1                    Movies            5.0\n",
       "2                    Movies            5.0\n",
       "3                    Movies            5.0\n",
       "4                    Movies            5.0\n",
       "5           Hotels & Travel            2.0\n",
       "6  Online Stores & Services            6.0\n",
       "7                    Movies            5.0\n",
       "8           Hotels & Travel            2.0\n",
       "9                    Movies            5.0"
      ]
     },
     "execution_count": 178,
     "metadata": {},
     "output_type": "execute_result"
    }
   ],
   "source": [
    "ord_enc = OrdinalEncoder()\n",
    "\n",
    "# encode category feature\n",
    "epinion['category_code'] = ord_enc.fit_transform(epinion[['category']])\n",
    "epinion[['category', 'category_code']].head(10)\n"
   ]
  },
  {
   "cell_type": "code",
   "execution_count": 179,
   "id": "fae6d7c9",
   "metadata": {},
   "outputs": [
    {
     "data": {
      "text/html": [
       "<div>\n",
       "<style scoped>\n",
       "    .dataframe tbody tr th:only-of-type {\n",
       "        vertical-align: middle;\n",
       "    }\n",
       "\n",
       "    .dataframe tbody tr th {\n",
       "        vertical-align: top;\n",
       "    }\n",
       "\n",
       "    .dataframe thead th {\n",
       "        text-align: right;\n",
       "    }\n",
       "</style>\n",
       "<table border=\"1\" class=\"dataframe\">\n",
       "  <thead>\n",
       "    <tr style=\"text-align: right;\">\n",
       "      <th></th>\n",
       "      <th>gender</th>\n",
       "      <th>gender_code</th>\n",
       "    </tr>\n",
       "  </thead>\n",
       "  <tbody>\n",
       "    <tr>\n",
       "      <th>2889</th>\n",
       "      <td>M</td>\n",
       "      <td>1.0</td>\n",
       "    </tr>\n",
       "    <tr>\n",
       "      <th>2890</th>\n",
       "      <td>M</td>\n",
       "      <td>1.0</td>\n",
       "    </tr>\n",
       "    <tr>\n",
       "      <th>2891</th>\n",
       "      <td>M</td>\n",
       "      <td>1.0</td>\n",
       "    </tr>\n",
       "    <tr>\n",
       "      <th>2892</th>\n",
       "      <td>F</td>\n",
       "      <td>0.0</td>\n",
       "    </tr>\n",
       "    <tr>\n",
       "      <th>2893</th>\n",
       "      <td>F</td>\n",
       "      <td>0.0</td>\n",
       "    </tr>\n",
       "    <tr>\n",
       "      <th>2894</th>\n",
       "      <td>F</td>\n",
       "      <td>0.0</td>\n",
       "    </tr>\n",
       "    <tr>\n",
       "      <th>2895</th>\n",
       "      <td>F</td>\n",
       "      <td>0.0</td>\n",
       "    </tr>\n",
       "    <tr>\n",
       "      <th>2896</th>\n",
       "      <td>F</td>\n",
       "      <td>0.0</td>\n",
       "    </tr>\n",
       "    <tr>\n",
       "      <th>2897</th>\n",
       "      <td>F</td>\n",
       "      <td>0.0</td>\n",
       "    </tr>\n",
       "    <tr>\n",
       "      <th>2898</th>\n",
       "      <td>F</td>\n",
       "      <td>0.0</td>\n",
       "    </tr>\n",
       "  </tbody>\n",
       "</table>\n",
       "</div>"
      ],
      "text/plain": [
       "     gender  gender_code\n",
       "2889      M          1.0\n",
       "2890      M          1.0\n",
       "2891      M          1.0\n",
       "2892      F          0.0\n",
       "2893      F          0.0\n",
       "2894      F          0.0\n",
       "2895      F          0.0\n",
       "2896      F          0.0\n",
       "2897      F          0.0\n",
       "2898      F          0.0"
      ]
     },
     "execution_count": 179,
     "metadata": {},
     "output_type": "execute_result"
    }
   ],
   "source": [
    "# encode gender value\n",
    "epinion['gender_code'] = ord_enc.fit_transform(epinion[['gender']])\n",
    "epinion[['gender', 'gender_code']].tail(10)\n"
   ]
  },
  {
   "cell_type": "code",
   "execution_count": 180,
   "id": "26102b92",
   "metadata": {},
   "outputs": [
    {
     "data": {
      "text/plain": [
       "<seaborn.axisgrid.PairGrid at 0x17e38b7f0>"
      ]
     },
     "execution_count": 180,
     "metadata": {},
     "output_type": "execute_result"
    },
    {
     "data": {
      "image/png": "[encoded data removed]",
      "text/plain": [
       "<Figure size 720x720 with 20 Axes>"
      ]
     },
     "metadata": {},
     "output_type": "display_data"
    }
   ],
   "source": [
    "# pairpolot\n",
    "sns.pairplot(data=epinion, vars=[\n",
    "             'rating', 'helpfulness', 'category_code', 'gender_code'])\n"
   ]
  },
  {
   "cell_type": "markdown",
   "id": "188c5f23",
   "metadata": {},
   "source": [
    "#### Correlation"
   ]
  },
  {
   "cell_type": "code",
   "execution_count": 181,
   "id": "0f40dbf6",
   "metadata": {},
   "outputs": [
    {
     "data": {
      "text/html": [
       "<div>\n",
       "<style scoped>\n",
       "    .dataframe tbody tr th:only-of-type {\n",
       "        vertical-align: middle;\n",
       "    }\n",
       "\n",
       "    .dataframe tbody tr th {\n",
       "        vertical-align: top;\n",
       "    }\n",
       "\n",
       "    .dataframe thead th {\n",
       "        text-align: right;\n",
       "    }\n",
       "</style>\n",
       "<table border=\"1\" class=\"dataframe\">\n",
       "  <thead>\n",
       "    <tr style=\"text-align: right;\">\n",
       "      <th></th>\n",
       "      <th>userId</th>\n",
       "      <th>timestamp</th>\n",
       "      <th>rating</th>\n",
       "      <th>helpfulness</th>\n",
       "      <th>category_code</th>\n",
       "      <th>gender_code</th>\n",
       "    </tr>\n",
       "  </thead>\n",
       "  <tbody>\n",
       "    <tr>\n",
       "      <th>userId</th>\n",
       "      <td>1.000000</td>\n",
       "      <td>-0.036399</td>\n",
       "      <td>0.008164</td>\n",
       "      <td>-0.016841</td>\n",
       "      <td>0.015408</td>\n",
       "      <td>0.056183</td>\n",
       "    </tr>\n",
       "    <tr>\n",
       "      <th>timestamp</th>\n",
       "      <td>-0.036399</td>\n",
       "      <td>1.000000</td>\n",
       "      <td>0.019860</td>\n",
       "      <td>0.003638</td>\n",
       "      <td>0.037118</td>\n",
       "      <td>-0.049244</td>\n",
       "    </tr>\n",
       "    <tr>\n",
       "      <th>rating</th>\n",
       "      <td>0.008164</td>\n",
       "      <td>0.019860</td>\n",
       "      <td>1.000000</td>\n",
       "      <td>-0.016832</td>\n",
       "      <td>-0.140576</td>\n",
       "      <td>0.018105</td>\n",
       "    </tr>\n",
       "    <tr>\n",
       "      <th>helpfulness</th>\n",
       "      <td>-0.016841</td>\n",
       "      <td>0.003638</td>\n",
       "      <td>-0.016832</td>\n",
       "      <td>1.000000</td>\n",
       "      <td>-0.000189</td>\n",
       "      <td>-0.046627</td>\n",
       "    </tr>\n",
       "    <tr>\n",
       "      <th>category_code</th>\n",
       "      <td>0.015408</td>\n",
       "      <td>0.037118</td>\n",
       "      <td>-0.140576</td>\n",
       "      <td>-0.000189</td>\n",
       "      <td>1.000000</td>\n",
       "      <td>-0.017644</td>\n",
       "    </tr>\n",
       "    <tr>\n",
       "      <th>gender_code</th>\n",
       "      <td>0.056183</td>\n",
       "      <td>-0.049244</td>\n",
       "      <td>0.018105</td>\n",
       "      <td>-0.046627</td>\n",
       "      <td>-0.017644</td>\n",
       "      <td>1.000000</td>\n",
       "    </tr>\n",
       "  </tbody>\n",
       "</table>\n",
       "</div>"
      ],
      "text/plain": [
       "                 userId  timestamp    rating  helpfulness  category_code  \\\n",
       "userId         1.000000  -0.036399  0.008164    -0.016841       0.015408   \n",
       "timestamp     -0.036399   1.000000  0.019860     0.003638       0.037118   \n",
       "rating         0.008164   0.019860  1.000000    -0.016832      -0.140576   \n",
       "helpfulness   -0.016841   0.003638 -0.016832     1.000000      -0.000189   \n",
       "category_code  0.015408   0.037118 -0.140576    -0.000189       1.000000   \n",
       "gender_code    0.056183  -0.049244  0.018105    -0.046627      -0.017644   \n",
       "\n",
       "               gender_code  \n",
       "userId            0.056183  \n",
       "timestamp        -0.049244  \n",
       "rating            0.018105  \n",
       "helpfulness      -0.046627  \n",
       "category_code    -0.017644  \n",
       "gender_code       1.000000  "
      ]
     },
     "execution_count": 181,
     "metadata": {},
     "output_type": "execute_result"
    }
   ],
   "source": [
    "epinion.corr()\n"
   ]
  },
  {
   "cell_type": "code",
   "execution_count": 182,
   "id": "cdc5adc3",
   "metadata": {},
   "outputs": [
    {
     "data": {
      "text/plain": [
       "<AxesSubplot:>"
      ]
     },
     "execution_count": 182,
     "metadata": {},
     "output_type": "execute_result"
    },
    {
     "data": {
      "image/png": "[encoded data removed]",
      "text/plain": [
       "<Figure size 432x288 with 2 Axes>"
      ]
     },
     "metadata": {},
     "output_type": "display_data"
    }
   ],
   "source": [
    "sns.heatmap(data=epinion.corr(), vmax=1, vmin=-1)\n"
   ]
  },
  {
   "cell_type": "code",
   "execution_count": null,
   "id": "9884f762",
   "metadata": {},
   "outputs": [
    {
     "data": {
      "text/plain": [
       "helpfulness    category_code    0.000189\n",
       "rating         helpfulness      0.016832\n",
       "category_code  gender_code      0.017644\n",
       "rating         gender_code      0.018105\n",
       "helpfulness    gender_code      0.046627\n",
       "rating         category_code    0.140576\n",
       "               rating           1.000000\n",
       "dtype: float64"
      ]
     },
     "metadata": {},
     "output_type": "display_data"
    }
   ],
   "source": [
    "# compare absolute value of correlation to find most and least correlated pair\n",
    "epinion[['rating', 'helpfulness', 'category_code', 'gender_code']\n",
    "        ].corr().abs().unstack().sort_values().drop_duplicates()\n"
   ]
  },
  {
   "cell_type": "markdown",
   "id": "60e47de9",
   "metadata": {},
   "source": [
    "As can be seen above:\n",
    "- **rating and category_code** are two **most** correlated input features at absolute 0.141 score.\n",
    "- **helpfulness** is the **least** correlated feature with **rating** at absolute 0.017 score.\n",
    "\n",
    "We will train 4 models and evaluate them based on train data first."
   ]
  },
  {
   "cell_type": "markdown",
   "id": "9fc85f39",
   "metadata": {},
   "source": [
    "### Split Training and Testing Data\n",
    "* Machine learning models are trained to help make predictions for the future. Normally, we need to randomly split the dataset into training and testing sets, where we use the training set to train the model, and then leverage the well-trained model to make predictions on the testing set. \n",
    "* To further investigate whether the size of the training/testing data affects the model performance, please random split the data into training and testing sets with different sizes:\n",
    "    * Case 1: training data containing 10% of the entire data;\n",
    "    * Case 2: training data containing 90% of the entire data. \n",
    "* Print the shape of training and testing sets in the two cases. "
   ]
  },
  {
   "cell_type": "code",
   "execution_count": 183,
   "id": "6257d21e",
   "metadata": {},
   "outputs": [],
   "source": [
    "# your code and solution\n",
    "RANDOM_STATE = 142\n",
    "train_1, test_1 = train_test_split(\n",
    "    epinion, test_size=0.9, random_state=RANDOM_STATE)\n",
    "train_2, test_2 = train_test_split(\n",
    "    epinion, test_size=0.1, random_state=RANDOM_STATE)\n"
   ]
  },
  {
   "cell_type": "code",
   "execution_count": 184,
   "id": "7daf245f",
   "metadata": {},
   "outputs": [
    {
     "name": "stdout",
     "output_type": "stream",
     "text": [
      "Shape of train and test sets in case 1: (289, 10) (2610, 10)\n",
      "Shape of train and test sets in case 2: (2609, 10) (290, 10)\n"
     ]
    }
   ],
   "source": [
    "print('Shape of train and test sets in case 1:', train_1.shape, test_1.shape)\n",
    "print('Shape of train and test sets in case 2:', train_2.shape, test_2.shape)\n"
   ]
  },
  {
   "cell_type": "markdown",
   "id": "1ced089a",
   "metadata": {},
   "source": [
    "### Train Linear Regression Models with Feature Selection under Cases 1 & 2\n",
    "* When training a machine learning model for prediction, we may need to select the most important/correlated input features for more accurate results. \n",
    "* To investigate whether feature selection affects the model performance, please select __two most correlated features and two least correlated features__ regarding rating, respectively. \n",
    "* Train __four__ linear regression models by following the conditions:\n",
    "    - (model-a) using the training/testing data in __case 1__ with __two most__ correlated input features\n",
    "    - (model-b) using the training/testing data in __case 1__ with __two least__ correlated input features\n",
    "    - (model-c) using the training/testing data in __case 2__ with __two most__ correlated input features\n",
    "    - (model-d) using the training/testing data in __case 2__ with __two least__ correlated input features\n",
    "* By doing this, we can verify the impacts of the size of traing/testing data on the model performance via comparing model-a and model-c (or model-b and model-d); meanwhile the impacts of feature selection can be validated via comparing model-a and model-b (or model-c and model-d).    "
   ]
  },
  {
   "cell_type": "markdown",
   "id": "dc52868b",
   "metadata": {},
   "source": [
    "#### (model-a) using the training/testing data in __case 1__ with __two most__ correlated input features"
   ]
  },
  {
   "cell_type": "code",
   "execution_count": 186,
   "id": "47cfb2f6",
   "metadata": {},
   "outputs": [
    {
     "name": "stdout",
     "output_type": "stream",
     "text": [
      "y = x * [-0.14392049] + 4.439377152965271\n"
     ]
    }
   ],
   "source": [
    "model_a = linear_model.LinearRegression()\n",
    "X_train_a = train_1[['category_code']]\n",
    "y_train_1 = train_1['rating']\n",
    "model_a.fit(X_train_a, y_train_1)\n",
    "print(\"y = x *\", model_a.coef_, \"+\", model_a.intercept_)\n"
   ]
  },
  {
   "cell_type": "code",
   "execution_count": 188,
   "id": "2f418c86",
   "metadata": {},
   "outputs": [],
   "source": [
    "def evaluate_model(model, X, y):\n",
    "    predicted = model.predict(X)\n",
    "    mse = mean_squared_error(y, predicted)\n",
    "    r2 = r2_score(y, predicted)\n",
    "    print(\"MSE:\", mse)\n",
    "    print(\"R Squared:\", r2)\n"
   ]
  },
  {
   "cell_type": "code",
   "execution_count": 189,
   "id": "be5e8084",
   "metadata": {},
   "outputs": [
    {
     "name": "stdout",
     "output_type": "stream",
     "text": [
      "MSE: 1.840021194214582\n",
      "R Squared: 0.028138808815556082\n"
     ]
    }
   ],
   "source": [
    "# Evaluate based on train data\n",
    "evaluate_model(model_a, X_train_a, y_train_1)\n"
   ]
  },
  {
   "cell_type": "markdown",
   "id": "4548ef9e",
   "metadata": {},
   "source": [
    "#### (model-b) using the training/testing data in __case 1__ with __two least__ correlated input features"
   ]
  },
  {
   "cell_type": "code",
   "execution_count": null,
   "id": "ea8d016b",
   "metadata": {},
   "outputs": [
    {
     "name": "stdout",
     "output_type": "stream",
     "text": [
      "y = x * [-0.32936508] + 4.988095238095235\n"
     ]
    }
   ],
   "source": [
    "model_b = linear_model.LinearRegression()\n",
    "X_train_b = train_1[['helpfulness']]\n",
    "model_b.fit(X_train_b, y_train_1)\n",
    "print(\"y = x *\", model_b.coef_, \"+\", model_b.intercept_)\n"
   ]
  },
  {
   "cell_type": "code",
   "execution_count": 190,
   "id": "5d1c9b48",
   "metadata": {},
   "outputs": [
    {
     "name": "stdout",
     "output_type": "stream",
     "text": [
      "MSE: 1.8811858076563959\n",
      "R Squared: 0.0063965102050853595\n"
     ]
    }
   ],
   "source": [
    "evaluate_model(model_b, X_train_b, y_train_1)\n"
   ]
  },
  {
   "cell_type": "markdown",
   "id": "5ec7db88",
   "metadata": {},
   "source": [
    "#### (model-c) using the training/testing data in __case 2__ with __two most__ correlated input features"
   ]
  },
  {
   "cell_type": "code",
   "execution_count": null,
   "id": "52a8fd36",
   "metadata": {},
   "outputs": [
    {
     "name": "stdout",
     "output_type": "stream",
     "text": [
      "y = x * [-0.10960734] + 4.223864765604228\n"
     ]
    }
   ],
   "source": [
    "model_c = linear_model.LinearRegression()\n",
    "X_train_c = train_2[['category_code']]\n",
    "y_train_2 = train_2['rating']\n",
    "model_c.fit(X_train_c, y_train_2)\n",
    "print(\"y = x *\", model_c.coef_, \"+\", model_c.intercept_)\n"
   ]
  },
  {
   "cell_type": "code",
   "execution_count": 191,
   "id": "4a59d7dc",
   "metadata": {},
   "outputs": [
    {
     "name": "stdout",
     "output_type": "stream",
     "text": [
      "MSE: 1.781665708874692\n",
      "R Squared: 0.018267543999298086\n"
     ]
    }
   ],
   "source": [
    "evaluate_model(model_c, X_train_c, y_train_2)\n"
   ]
  },
  {
   "cell_type": "markdown",
   "id": "6945c8e8",
   "metadata": {},
   "source": [
    "#### (model-d) using the training/testing data in __case 2__ with __two least__ correlated input features"
   ]
  },
  {
   "cell_type": "code",
   "execution_count": null,
   "id": "90fca066",
   "metadata": {},
   "outputs": [
    {
     "name": "stdout",
     "output_type": "stream",
     "text": [
      "y = x * [-0.10891967] + 4.091639955586299\n"
     ]
    }
   ],
   "source": [
    "model_d = linear_model.LinearRegression()\n",
    "X_train_d = train_2[['helpfulness']]\n",
    "model_d.fit(X_train_d, y_train_2)\n",
    "print(\"y = x *\", model_d.coef_, \"+\", model_d.intercept_)\n"
   ]
  },
  {
   "cell_type": "code",
   "execution_count": 193,
   "id": "73bf7bc5",
   "metadata": {},
   "outputs": [
    {
     "name": "stdout",
     "output_type": "stream",
     "text": [
      "MSE: 1.8134868991303736\n",
      "R Squared: 0.0007334492996210473\n"
     ]
    }
   ],
   "source": [
    "evaluate_model(model_d, X_train_d, y_train_2)\n"
   ]
  },
  {
   "cell_type": "markdown",
   "id": "9a906464",
   "metadata": {},
   "source": [
    "### Evaluate Models\n",
    "* Evaluate the performance of the four models with two metrics, including MSE and Root MSE\n",
    "* Print the results of the four models regarding the two metrics"
   ]
  },
  {
   "cell_type": "code",
   "execution_count": 200,
   "id": "ddb22db9",
   "metadata": {},
   "outputs": [
    {
     "name": "stdout",
     "output_type": "stream",
     "text": [
      "Evaluation for model-a:\n",
      "MSE: 1.7713192764442152\n",
      "R Squared: 0.015933735308769403\n",
      "\n",
      "Evaluation for model-b:\n",
      "MSE: 1.8110306383089636\n",
      "R Squared: -0.006128132393868668\n",
      "\n",
      "Evaluation for model-c:\n",
      "MSE: 1.7027756728343784\n",
      "R Squared: 0.03329755032287074\n",
      "\n",
      "Evaluation for model-d:\n",
      "MSE: 1.7702279570955315\n",
      "R Squared: -0.004996565262557429\n"
     ]
    }
   ],
   "source": [
    "# your code and solution\n",
    "\n",
    "# model-a\n",
    "X_test_a = test_1[['category_code']]\n",
    "y_test_1 = test_1['rating']\n",
    "print('Evaluation for model-a:')\n",
    "evaluate_model(model_a, X_test_a, y_test_1)\n",
    "print()\n",
    "\n",
    "# model-b\n",
    "X_test_b = test_1[['helpfulness']]\n",
    "print('Evaluation for model-b:')\n",
    "evaluate_model(model_b, X_test_b, y_test_1)\n",
    "print()\n",
    "\n",
    "# model-c\n",
    "X_test_c = test_2[['category_code']]\n",
    "y_test_2 = test_2['rating']\n",
    "print('Evaluation for model-c:')\n",
    "evaluate_model(model_c, X_test_c, y_test_2)\n",
    "print()\n",
    "\n",
    "# model-d\n",
    "X_test_d = test_2[['helpfulness']]\n",
    "print('Evaluation for model-d:')\n",
    "evaluate_model(model_d, X_test_d, y_test_2)\n"
   ]
  },
  {
   "cell_type": "markdown",
   "id": "fe9513b9",
   "metadata": {},
   "source": [
    "### Visualize, Compare and Analyze the Results\n",
    "* Visulize the results, and perform ___insightful analysis___ on the obtained results. For better visualization, you may need to carefully set the scale for the y-axis.\n",
    "* Normally, the model trained with most correlated features and more training data will get better results. Do you obtain the similar observations? If not, please ___explain the possible reasons___."
   ]
  },
  {
   "cell_type": "code",
   "execution_count": null,
   "id": "d1562a90",
   "metadata": {},
   "outputs": [],
   "source": [
    "# your code and solution\n"
   ]
  }
 ],
 "metadata": {
  "kernelspec": {
   "display_name": "Python 3 (ipykernel)",
   "language": "python",
   "name": "python3"
  },
  "language_info": {
   "codemirror_mode": {
    "name": "ipython",
    "version": 3
   },
   "file_extension": ".py",
   "mimetype": "text/x-python",
   "name": "python",
   "nbconvert_exporter": "python",
   "pygments_lexer": "ipython3",
   "version": "3.8.9"
  },
  "vscode": {
   "interpreter": {
    "hash": "31f2aee4e71d21fbe5cf8b01ff0e069b9275f58929596ceb00d14d90e3e16cd6"
   }
  }
 },
 "nbformat": 4,
 "nbformat_minor": 5
}
